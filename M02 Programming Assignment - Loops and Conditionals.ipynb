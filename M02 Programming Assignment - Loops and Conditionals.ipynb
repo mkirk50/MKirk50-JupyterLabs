{
 "cells": [
  {
   "cell_type": "code",
   "execution_count": 1,
   "id": "8c361307",
   "metadata": {},
   "outputs": [
    {
     "name": "stdout",
     "output_type": "stream",
     "text": [
      "Too high.\n"
     ]
    }
   ],
   "source": [
    "#4.1\n",
    "secret = 7\n",
    "guess = 9\n",
    "if guess < secret:\n",
    "\tprint(\"Too low.\")\n",
    "\n",
    "elif guess > secret:\n",
    "\tprint(\"Too high.\")\n",
    "\n",
    "elif guess == secret:\n",
    "\tprint(\"Just right\")"
   ]
  },
  {
   "cell_type": "code",
   "execution_count": 2,
   "id": "2eee5948",
   "metadata": {},
   "outputs": [
    {
     "name": "stdout",
     "output_type": "stream",
     "text": [
      "It's a Cherry.\n"
     ]
    }
   ],
   "source": [
    "#4.2\n",
    "small = True\n",
    "green = False\n",
    "\n",
    "if small:\n",
    "    if green:\n",
    "        print(\"It's a Pea.\")\n",
    "    else:\n",
    "        print(\"It's a Cherry.\")\n",
    "else:\n",
    "    if green:\n",
    "        print(\"It's a Watermelon.\")\n",
    "    else:\n",
    "        print(\"It's a Pumpkin.\")"
   ]
  },
  {
   "cell_type": "code",
   "execution_count": 3,
   "id": "2b7f7027",
   "metadata": {},
   "outputs": [
    {
     "name": "stdout",
     "output_type": "stream",
     "text": [
      "3\n",
      "2\n",
      "1\n",
      "0\n"
     ]
    }
   ],
   "source": [
    "#6.1\n",
    "for x in range (3,-1,-1):\n",
    "\tprint(x)"
   ]
  },
  {
   "cell_type": "code",
   "execution_count": 6,
   "id": "553757f3",
   "metadata": {},
   "outputs": [
    {
     "name": "stdout",
     "output_type": "stream",
     "text": [
      "Too low.\n",
      "Too low.\n",
      "Too low.\n",
      "Too low.\n",
      "Too low.\n",
      "Too low.\n",
      "Found it!\n"
     ]
    }
   ],
   "source": [
    "#6.2\n",
    "guess_me = 7\n",
    "number = 1\n",
    "\n",
    "while number <= guess_me:\n",
    "    if number < guess_me:        \n",
    "        print(\"Too low.\")\n",
    "        number += 1\n",
    "    elif number == guess_me:        \n",
    "        print(\"Found it!\")\n",
    "        break\n",
    "else:\n",
    "    print(\"oops!\")"
   ]
  },
  {
   "cell_type": "code",
   "execution_count": 10,
   "id": "f4b7ee95",
   "metadata": {},
   "outputs": [
    {
     "name": "stdout",
     "output_type": "stream",
     "text": [
      "Too low.\n",
      "Too low.\n",
      "Too low.\n",
      "Too low.\n",
      "Too low.\n",
      "Found it!\n"
     ]
    }
   ],
   "source": [
    "#6.3\n",
    "guess_me = 5\n",
    "for number in range(0,10):\n",
    "\n",
    "    if number < guess_me:        \n",
    "        print(\"Too low.\")\n",
    "        number += 1\n",
    "    elif number == guess_me:        \n",
    "        print(\"Found it!\")\n",
    "        break\n",
    "    elif number > guess_me:\n",
    "        print(\"oops!\")\n",
    "        break"
   ]
  },
  {
   "cell_type": "code",
   "execution_count": null,
   "id": "38594c56",
   "metadata": {},
   "outputs": [],
   "source": []
  },
  {
   "cell_type": "code",
   "execution_count": null,
   "id": "9dd9784c",
   "metadata": {},
   "outputs": [],
   "source": []
  }
 ],
 "metadata": {
  "kernelspec": {
   "display_name": "Python 3 (ipykernel)",
   "language": "python",
   "name": "python3"
  },
  "language_info": {
   "codemirror_mode": {
    "name": "ipython",
    "version": 3
   },
   "file_extension": ".py",
   "mimetype": "text/x-python",
   "name": "python",
   "nbconvert_exporter": "python",
   "pygments_lexer": "ipython3",
   "version": "3.11.5"
  }
 },
 "nbformat": 4,
 "nbformat_minor": 5
}
