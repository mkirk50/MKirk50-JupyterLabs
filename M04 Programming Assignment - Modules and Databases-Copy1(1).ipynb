{
 "cells": [
  {
   "cell_type": "code",
   "execution_count": 1,
   "id": "4cf29c5c",
   "metadata": {},
   "outputs": [
    {
     "ename": "ModuleNotFoundError",
     "evalue": "No module named 'zoo'",
     "output_type": "error",
     "traceback": [
      "\u001b[1;31m---------------------------------------------------------------------------\u001b[0m",
      "\u001b[1;31mModuleNotFoundError\u001b[0m                       Traceback (most recent call last)",
      "Cell \u001b[1;32mIn[1], line 2\u001b[0m\n\u001b[0;32m      1\u001b[0m \u001b[38;5;66;03m# 11.1 code to access and print the hours\u001b[39;00m\n\u001b[1;32m----> 2\u001b[0m \u001b[38;5;28;01mimport\u001b[39;00m \u001b[38;5;21;01mzoo\u001b[39;00m\n\u001b[0;32m      4\u001b[0m \u001b[38;5;28mprint\u001b[39m(zoo\u001b[38;5;241m.\u001b[39mhours())\n\u001b[0;32m      7\u001b[0m \u001b[38;5;66;03m# 11.2 code to incorporate aliasing for calling module functions\u001b[39;00m\n",
      "\u001b[1;31mModuleNotFoundError\u001b[0m: No module named 'zoo'"
     ]
    }
   ],
   "source": [
    "\n",
    "# 11.1 code to access and print the hours\n",
    "import zoo\n",
    "\n",
    "print(zoo.hours())\n",
    "\n",
    "\n",
    "# 11.2 code to incorporate aliasing for calling module functions\n",
    "\n",
    "import zoo as menagerie\n",
    "\n",
    "print(menagerie.hours())\n",
    "\n"
   ]
  },
  {
   "cell_type": "code",
   "execution_count": 2,
   "id": "e5fda017",
   "metadata": {},
   "outputs": [],
   "source": [
    "#11.1, 11.2 This is the zoo.py code\n",
    "\n",
    "def hours():\n",
    "\n",
    "    return \"Open 9-5 daily\""
   ]
  },
  {
   "cell_type": "code",
   "execution_count": 3,
   "id": "2e2e1c8a",
   "metadata": {},
   "outputs": [
    {
     "ename": "OperationalError",
     "evalue": "no such table: books",
     "output_type": "error",
     "traceback": [
      "\u001b[1;31m---------------------------------------------------------------------------\u001b[0m",
      "\u001b[1;31mOperationalError\u001b[0m                          Traceback (most recent call last)",
      "Cell \u001b[1;32mIn[3], line 6\u001b[0m\n\u001b[0;32m      4\u001b[0m cursor \u001b[38;5;241m=\u001b[39m connection\u001b[38;5;241m.\u001b[39mcursor()\n\u001b[0;32m      5\u001b[0m sql \u001b[38;5;241m=\u001b[39m \u001b[38;5;124m\"\u001b[39m\u001b[38;5;124mSELECT title FROM books order by title\u001b[39m\u001b[38;5;124m\"\u001b[39m\n\u001b[1;32m----> 6\u001b[0m all_rows \u001b[38;5;241m=\u001b[39m \u001b[38;5;28mlist\u001b[39m(cursor\u001b[38;5;241m.\u001b[39mexecute(sql))\n\u001b[0;32m      7\u001b[0m \u001b[38;5;28;01mfor\u001b[39;00m row \u001b[38;5;129;01min\u001b[39;00m all_rows:\n\u001b[0;32m      8\u001b[0m     \u001b[38;5;28mprint\u001b[39m(row[\u001b[38;5;241m0\u001b[39m])\n",
      "\u001b[1;31mOperationalError\u001b[0m: no such table: books"
     ]
    }
   ],
   "source": [
    "import sqlite3\n",
    "from sqlalchemy import text\n",
    "connection=sqlite3.connect(\"books.db\")\n",
    "cursor = connection.cursor()\n",
    "sql = \"SELECT title FROM books order by title\"\n",
    "all_rows = list(cursor.execute(sql))\n",
    "for row in all_rows:\n",
    "    print(row[0])"
   ]
  },
  {
   "cell_type": "code",
   "execution_count": null,
   "id": "655bb5b2",
   "metadata": {},
   "outputs": [],
   "source": []
  }
 ],
 "metadata": {
  "kernelspec": {
   "display_name": "Python 3 (ipykernel)",
   "language": "python",
   "name": "python3"
  },
  "language_info": {
   "codemirror_mode": {
    "name": "ipython",
    "version": 3
   },
   "file_extension": ".py",
   "mimetype": "text/x-python",
   "name": "python",
   "nbconvert_exporter": "python",
   "pygments_lexer": "ipython3",
   "version": "3.11.5"
  }
 },
 "nbformat": 4,
 "nbformat_minor": 5
}
